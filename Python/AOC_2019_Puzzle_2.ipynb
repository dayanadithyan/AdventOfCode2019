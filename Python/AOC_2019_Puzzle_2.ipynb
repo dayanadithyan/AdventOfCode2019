{
 "cells": [
  {
   "cell_type": "markdown",
   "metadata": {},
   "source": [
    "## AOC 2019 --- Day 2: 1202 Program Alarm ---"
   ]
  },
  {
   "cell_type": "markdown",
   "metadata": {},
   "source": [
    "### Part (1)"
   ]
  },
  {
   "cell_type": "code",
   "execution_count": null,
   "metadata": {},
   "outputs": [],
   "source": [
    "## fix the file IO, this is pitiful "
   ]
  },
  {
   "cell_type": "code",
   "execution_count": 16,
   "metadata": {},
   "outputs": [],
   "source": [
    "broken_state_machine = []"
   ]
  },
  {
   "cell_type": "code",
   "execution_count": 186,
   "metadata": {},
   "outputs": [],
   "source": [
    "broken_state_machine = [1,12,2,3,1,1,2,3,1,3,4,3,1,5,0,3,2,10,1,19,1,19,9,23,1,23,6,27,1,9,27,31,1,31,10,35,2,13,35,39,1,39,10,43,1,43,9,47,1,47,13,51,1,51,13,55,2,55,6,59,1,59,5,63,2,10,63,67,1,67,9,71,1,71,13,75,1,6,75,79,1,10,79,83,2,9,83,87,1,87,5,91,2,91,9,95,1,6,95,99,1,99,5,103,2,103,10,107,1,107,6,111,2,9,111,115,2,9,115,119,2,13,119,123,1,123,9,127,1,5,127,131,1,131,2,135,1,135,6,0,99,2,0,14,0\n",
    "]"
   ]
  },
  {
   "cell_type": "code",
   "execution_count": null,
   "metadata": {},
   "outputs": [],
   "source": [
    "def int_machine():\n",
    "\n",
    "    index = 0 \n",
    "    \n",
    "    while broken_state_machine[index] != 99:\n",
    "        \n",
    "        print('Reading at position: ' + str(index))\n",
    "        \n",
    "        if broken_state_machine[index] == 1:\n",
    "            \n",
    "            broken_state_machine[broken_state_machine[index + 3]] = broken_state_machine[broken_state_machine[index + 1]] + broken_state_machine[broken_state_machine[index + 2]]\n",
    "            \n",
    "        elif broken_state_machine[index] == 2:\n",
    "        \n",
    "            broken_state_machine[broken_state_machine[index + 3]] = broken_state_machine[broken_state_machine[index + 1]] * broken_state_machine[broken_state_machine[index + 2]]\n",
    "    \n",
    "        index += 4\n",
    "                    "
   ]
  },
  {
   "cell_type": "code",
   "execution_count": 187,
   "metadata": {
    "scrolled": false
   },
   "outputs": [
    {
     "name": "stdout",
     "output_type": "stream",
     "text": [
      "Reading at position: 0\n",
      "Reading at position: 4\n",
      "Reading at position: 8\n",
      "Reading at position: 12\n",
      "Reading at position: 16\n",
      "Reading at position: 20\n",
      "Reading at position: 24\n",
      "Reading at position: 28\n",
      "Reading at position: 32\n",
      "Reading at position: 36\n",
      "Reading at position: 40\n",
      "Reading at position: 44\n",
      "Reading at position: 48\n",
      "Reading at position: 52\n",
      "Reading at position: 56\n",
      "Reading at position: 60\n",
      "Reading at position: 64\n",
      "Reading at position: 68\n",
      "Reading at position: 72\n",
      "Reading at position: 76\n",
      "Reading at position: 80\n",
      "Reading at position: 84\n",
      "Reading at position: 88\n",
      "Reading at position: 92\n",
      "Reading at position: 96\n",
      "Reading at position: 100\n",
      "Reading at position: 104\n",
      "Reading at position: 108\n",
      "Reading at position: 112\n",
      "Reading at position: 116\n",
      "Reading at position: 120\n",
      "Reading at position: 124\n",
      "Reading at position: 128\n",
      "Reading at position: 132\n",
      "Reading at position: 136\n"
     ]
    }
   ],
   "source": [
    "int_machine()"
   ]
  },
  {
   "cell_type": "code",
   "execution_count": 185,
   "metadata": {},
   "outputs": [],
   "source": [
    "broken_state_machine"
   ]
  },
  {
   "cell_type": "markdown",
   "metadata": {},
   "source": [
    "#### graveyard for functions that didn't pan out"
   ]
  },
  {
   "cell_type": "code",
   "execution_count": null,
   "metadata": {},
   "outputs": [],
   "source": [
    "## sloppy"
   ]
  },
  {
   "cell_type": "code",
   "execution_count": 145,
   "metadata": {},
   "outputs": [],
   "source": [
    "# def int_coder():\n",
    "    \n",
    "#     for index in range(0,len(broken_state_machine)+1):\n",
    "        \n",
    "#         if index == 0 or index % 4 == 0:\n",
    "        \n",
    "#             if broken_state_machine[index] != 99:\n",
    "\n",
    "                \n",
    "\n",
    "#                 if broken_state_machine[index] == 1:\n",
    "#                     broken_state_machine[index + 3] = broken_state_machine[index + 1] + broken_state_machine[index + 2]\n",
    "\n",
    "#                 elif broken_state_machine[index] == 2:\n",
    "#                     broken_state_machine[index + 3] = broken_state_machine[index + 1] * broken_state_machine[index + 2]\n",
    "                \n",
    "#             elif broken_state_machine[index] == 99 and (index == 0 or index % 4 == 0):\n",
    "            \n",
    "#                 print('Reading at position: ' + str(index))\n",
    "#                 print('PROGRAM HALTING at position: ' + str(index))\n",
    "#                 print('Your answer is' + str(broken_state_machine[0]) + \"!\")\n",
    "#                 break\n",
    "                "
   ]
  },
  {
   "cell_type": "code",
   "execution_count": 117,
   "metadata": {},
   "outputs": [],
   "source": [
    "# def intcoder():\n",
    "    \n",
    "#     for index in range(0,len(broken_state_machine)+1):\n",
    "    \n",
    "#         if index == 0 or index % 4 == 0:\n",
    "                \n",
    "#             print('Reading at position: ' + str(index))\n",
    "        \n",
    "#             if broken_state_machine[index] == 99:\n",
    "        \n",
    "#                 print('PROGRAM HALTING at position: ' + str(index))\n",
    "                \n",
    "#                 print('Your answer is' + str(broken_state_machine[0]) + \"!\")\n",
    "                \n",
    "    \n",
    "#             elif broken_state_machine[index] == 1:\n",
    "\n",
    "#                 broken_state_machine[index + 3] = broken_state_machine[index + 1] + broken_state_machine[index + 2]\n",
    "                    \n",
    "#             elif broken_state_machine[index] == 2:\n",
    "                    \n",
    "#                 broken_state_machine[index + 3] = broken_state_machine[index + 1] * broken_state_machine[index + 2]\n",
    "                \n",
    "#         else:\n",
    "#             continue\n",
    "            \n",
    "    "
   ]
  },
  {
   "cell_type": "markdown",
   "metadata": {},
   "source": [
    "### Part (2)"
   ]
  },
  {
   "cell_type": "code",
   "execution_count": null,
   "metadata": {},
   "outputs": [],
   "source": []
  }
 ],
 "metadata": {
  "kernelspec": {
   "display_name": "Python 3",
   "language": "python",
   "name": "python3"
  },
  "language_info": {
   "codemirror_mode": {
    "name": "ipython",
    "version": 3
   },
   "file_extension": ".py",
   "mimetype": "text/x-python",
   "name": "python",
   "nbconvert_exporter": "python",
   "pygments_lexer": "ipython3",
   "version": "3.7.3"
  }
 },
 "nbformat": 4,
 "nbformat_minor": 4
}
